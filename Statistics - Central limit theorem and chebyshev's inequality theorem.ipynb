{
 "cells": [
  {
   "cell_type": "markdown",
   "id": "12a915f4",
   "metadata": {},
   "source": [
    "## Central Limit Theorem"
   ]
  },
  {
   "cell_type": "markdown",
   "id": "051102e5",
   "metadata": {},
   "source": [
    "The Central Limit Theorem states that the sampling distribution of the sample means approaches a normal distribution as the sample size gets larger — no matter what the shape of the population distribution. This fact holds especially true for sample sizes over 30.\n",
    "\n",
    "All this is saying is that as you take more samples, especially large ones, your graph of the sample means will look more like a normal distribution.\n",
    "\n",
    "Here’s what the Central Limit Theorem is saying, graphically. The picture below shows one of the simplest types of test: rolling a fair die. The more times you roll the die, the more likely the shape of the distribution of the means tends to look like a normal distribution graph."
   ]
  },
  {
   "attachments": {
    "500px-Dice_sum_central_limit_theorem.svg_-250x300.png": {
     "image/png": "[encoded data removed]"
    }
   },
   "cell_type": "markdown",
   "id": "ce3cc752",
   "metadata": {},
   "source": [
    "![500px-Dice_sum_central_limit_theorem.svg_-250x300.png](attachment:500px-Dice_sum_central_limit_theorem.svg_-250x300.png)"
   ]
  },
  {
   "cell_type": "markdown",
   "id": "7d55e818",
   "metadata": {},
   "source": [
    "An essential component of the Central Limit Theorem is that the average of your sample means will be the population mean. In other words, add up the means from all of your samples, find the average and that average will be your actual population mean. Similarly, if you find the average of all of the standard deviations in your sample, you’ll find the actual standard deviation for your population. It’s a pretty useful phenomenon that can help accurately predict characteristics of a population."
   ]
  },
  {
   "cell_type": "markdown",
   "id": "c59ebeea",
   "metadata": {},
   "source": [
    "A Central Limit Theorem word problem will most likely contain the phrase “assume the variable is normally distributed”, or one like it. With these central limit theorem examples, you will be given:\n",
    "\n",
    "A population (i.e. 29-year-old males, seniors between 72 and 76, all registered vehicles, all cat owners)\n",
    "\n",
    "An average (i.e. 125 pounds, 24 hours, 15 years, $15.74)\n",
    "\n",
    "A standard deviation (i.e. 14.4lbs, 3 hours, 120 months, $196.42)\n",
    "\n",
    "A sample size (i.e. 15 males, 10 seniors, 79 cars, 100 households)"
   ]
  },
  {
   "cell_type": "markdown",
   "id": "44c67c36",
   "metadata": {},
   "source": [
    "## Chebyshev’s theorem"
   ]
  },
  {
   "cell_type": "markdown",
   "id": "b64cb2d0",
   "metadata": {},
   "source": [
    "Chebyshev’s theorem is used to find the proportion of observations you would expect to find within a certain number of standard deviations from the mean.\n",
    "\n",
    "\n",
    "For normal distributions, about 68% of results will fall between +1 and -1 standard deviations from the mean. About 95% will fall between +2 and -2 standard deviations. The Theorem allows you to use this idea for any distribution, even if that distribution isn’t normal. The theorem states:\n",
    "\n",
    "For a population or sample, the proportion of observations is no less than (1 – (1/k^2))"
   ]
  },
  {
   "cell_type": "markdown",
   "id": "b5c8071f",
   "metadata": {},
   "source": [
    "Chebyshev's inequality used to find the proportion of observations within a standard deviations from the mean. If the random variable doesn't follow Gaussian distribution Chebyshev's inequality used for this."
   ]
  },
  {
   "cell_type": "markdown",
   "id": "000c9cdb",
   "metadata": {},
   "source": [
    "example:\n",
    "\n",
    "pr(mean-k(S.D) < x < mean+K(S.D)) > 1 -(1/k^2)\n",
    "\n",
    "lets take k = 2 i.e two standard deviation from mean\n",
    "\n",
    "then,\n",
    "\n",
    "pr(mean-k(S.D) < x < mean+K(S.D)) > 1-(1/2^2)\n",
    "\n",
    "pr(mean-k(S.D) < x < mean+K(S.D)) > 75%"
   ]
  },
  {
   "cell_type": "markdown",
   "id": "0431e6c8",
   "metadata": {},
   "source": [
    "i have gathered these information from various sources and i dont own any of the above content\n",
    "credits to the creators"
   ]
  }
 ],
 "metadata": {
  "kernelspec": {
   "display_name": "Python 3",
   "language": "python",
   "name": "python3"
  },
  "language_info": {
   "codemirror_mode": {
    "name": "ipython",
    "version": 3
   },
   "file_extension": ".py",
   "mimetype": "text/x-python",
   "name": "python",
   "nbconvert_exporter": "python",
   "pygments_lexer": "ipython3",
   "version": "3.8.8"
  }
 },
 "nbformat": 4,
 "nbformat_minor": 5
}
