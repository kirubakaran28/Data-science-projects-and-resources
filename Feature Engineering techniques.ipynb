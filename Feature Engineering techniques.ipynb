{
 "cells": [
  {
   "cell_type": "markdown",
   "id": "ee321ea1",
   "metadata": {},
   "source": [
    "## How to Perform One Hot Encoding for Multi Categorical Variables"
   ]
  },
  {
   "cell_type": "markdown",
   "id": "0e61c520",
   "metadata": {},
   "source": [
    "### Taking most frequent categories from the categorical variables"
   ]
  },
  {
   "cell_type": "code",
   "execution_count": null,
   "id": "39bc993a",
   "metadata": {},
   "outputs": [],
   "source": [
    "# determining the most occured categorical values\n",
    "df['value'].value_counts().sort_values(ascending=False).head(20)"
   ]
  },
  {
   "cell_type": "code",
   "execution_count": null,
   "id": "6afa75ce",
   "metadata": {},
   "outputs": [],
   "source": [
    "# using them to form a list for the encoding purpose\n",
    "top = [x for x in df['Model'].value_counts().sort_values(ascending=False).head(20).index]\n",
    "top"
   ]
  },
  {
   "cell_type": "code",
   "execution_count": null,
   "id": "63286107",
   "metadata": {},
   "outputs": [],
   "source": [
    "# the columns are created with use of labels and frequent categories are filled as 1 whereas non frequent as 0\n",
    "\n",
    "for label in top:\n",
    "    df[label] = np.where(df['Model']==label,1,0)\n",
    "    \n",
    "df[['Model'] + top].head(20)"
   ]
  },
  {
   "cell_type": "code",
   "execution_count": null,
   "id": "e2aa9f74",
   "metadata": {},
   "outputs": [],
   "source": []
  },
  {
   "cell_type": "markdown",
   "id": "e2ceeba0",
   "metadata": {},
   "source": [
    "## Determining the columns that contain the categorical values"
   ]
  },
  {
   "cell_type": "code",
   "execution_count": null,
   "id": "eadc1c31",
   "metadata": {},
   "outputs": [],
   "source": [
    "# this is by subtracting the numeric columns from all the columns present\n",
    "cols = df.columns\n",
    "num_cols = df._get_numeric_data().columns\n",
    "num_cols\n",
    "col_list = list(set(cols) - set(num_cols))\n",
    "col_list\n",
    "# col_list has the list of columns with categorical values"
   ]
  },
  {
   "cell_type": "code",
   "execution_count": null,
   "id": "69498d84",
   "metadata": {},
   "outputs": [],
   "source": []
  },
  {
   "cell_type": "markdown",
   "id": "ec28b8cb",
   "metadata": {},
   "source": [
    "## one hot encoding"
   ]
  },
  {
   "cell_type": "code",
   "execution_count": null,
   "id": "e46b9f4b",
   "metadata": {},
   "outputs": [],
   "source": [
    "# get_dummies is used for encoding \n",
    "dfnew = pd.get_dummies(df, columns = ['list of columns'] )"
   ]
  },
  {
   "cell_type": "code",
   "execution_count": null,
   "id": "d51cdda3",
   "metadata": {},
   "outputs": [],
   "source": []
  },
  {
   "cell_type": "markdown",
   "id": "94aa36d0",
   "metadata": {},
   "source": [
    "## changing the yes or no to one's and zero's"
   ]
  },
  {
   "cell_type": "code",
   "execution_count": null,
   "id": "a0686afe",
   "metadata": {},
   "outputs": [],
   "source": [
    "df['column'] = df['column'].str.replace('Yes', '1').astype(str)\n",
    "df['column'] = df['column'].str.replace('No', '0').astype(str)"
   ]
  },
  {
   "cell_type": "code",
   "execution_count": null,
   "id": "a090b144",
   "metadata": {},
   "outputs": [],
   "source": []
  },
  {
   "cell_type": "markdown",
   "id": "e2921f87",
   "metadata": {},
   "source": [
    "## changing boolean values to one's and zero's"
   ]
  },
  {
   "cell_type": "code",
   "execution_count": null,
   "id": "c5d676da",
   "metadata": {},
   "outputs": [],
   "source": [
    "df['column'].astype(int)"
   ]
  },
  {
   "cell_type": "code",
   "execution_count": null,
   "id": "e5f4028b",
   "metadata": {},
   "outputs": [],
   "source": []
  },
  {
   "cell_type": "markdown",
   "id": "26724eb3",
   "metadata": {},
   "source": [
    "## Replacing str and making the column as int type"
   ]
  },
  {
   "cell_type": "markdown",
   "id": "1c1a5a5a",
   "metadata": {},
   "source": [
    "#### example in this case the mileage is followed by 'km' and it is not necessary for the program only numeric values is required. so, replacing 'km'."
   ]
  },
  {
   "cell_type": "code",
   "execution_count": null,
   "id": "59f47704",
   "metadata": {},
   "outputs": [],
   "source": [
    "df['Mileage'] = df['Mileage'].str.replace('km', '').astype(int)"
   ]
  },
  {
   "cell_type": "code",
   "execution_count": null,
   "id": "81c3d8a3",
   "metadata": {},
   "outputs": [],
   "source": []
  },
  {
   "cell_type": "markdown",
   "id": "b8647aa9",
   "metadata": {},
   "source": [
    "## To get equal number of columns before and after encoding in both test and train dataframe"
   ]
  },
  {
   "cell_type": "code",
   "execution_count": null,
   "id": "7f000321",
   "metadata": {},
   "outputs": [],
   "source": [
    "# Making a new column to determine whether this is from training or test set of the dataframe\n",
    "df1['train'] = 1\n",
    "df2['train'] = 0"
   ]
  },
  {
   "cell_type": "code",
   "execution_count": null,
   "id": "69247fb6",
   "metadata": {},
   "outputs": [],
   "source": [
    "# next step is to concading the two dataframes\n",
    "df = pd.concat([df1,df2])"
   ]
  },
  {
   "cell_type": "code",
   "execution_count": null,
   "id": "cd852b90",
   "metadata": {},
   "outputs": [],
   "source": [
    "# this step is used finally after all encoding to seperate the test and train dataframes\n",
    "train_df = dfnew[dfnew['train'] == 1]\n",
    "test_df = dfnew[dfnew['train'] == 0]\n",
    "train_df.drop([\"train\"],axis=1,inplace=True)\n",
    "test_df.drop([\"train\"],axis=1,inplace=True)"
   ]
  }
 ],
 "metadata": {
  "kernelspec": {
   "display_name": "Python 3",
   "language": "python",
   "name": "python3"
  },
  "language_info": {
   "codemirror_mode": {
    "name": "ipython",
    "version": 3
   },
   "file_extension": ".py",
   "mimetype": "text/x-python",
   "name": "python",
   "nbconvert_exporter": "python",
   "pygments_lexer": "ipython3",
   "version": "3.8.8"
  }
 },
 "nbformat": 4,
 "nbformat_minor": 5
}
